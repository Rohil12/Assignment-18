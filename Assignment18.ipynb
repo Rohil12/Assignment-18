{
 "cells": [
  {
   "cell_type": "code",
   "execution_count": 1,
   "id": "477dcbac-d61c-4f69-a9c2-abc44f8827dc",
   "metadata": {},
   "outputs": [],
   "source": [
    "#Q1 Web scraping is an automated process of extracting data from the websites. It's like using a scooping tool \n",
    "# to collect specific information from a web page instead of manually copying and pasting it\n",
    "\n",
    "# Data collection: Businesses use web scraping to garther large datasets from \n",
    "# various sources. This data can be product prices from competitor websites\n",
    "# News articles for sentiment analysis or social media posts for market research.\n",
    "\n",
    "# Price monitoring: Ecommerce companies can scrape competitor product prices \n",
    "# Prices to stay informed and adjust their own pricing strategies\n",
    "\n",
    "# lead generation: Sales teams can use web scraping to extract contact information\n",
    "# from websites relevant to their target audience"
   ]
  },
  {
   "cell_type": "code",
   "execution_count": 3,
   "id": "338e42e9-ba9e-46ff-bff5-d90fdb5efdc0",
   "metadata": {},
   "outputs": [],
   "source": [
    "# Q.2\n",
    "# There are two approaches for web scraping\n",
    "# Web scraping libraries: These are software tools that provide functions and tools specifically designed\n",
    "# for web scraping tasks. Popular libraries include beautiful soup and scrapy. They simplify tasks like navigating \n",
    "# Web pages, prasing HTML data and pinpointing the elements you want to extract.\n",
    "\n",
    "# Web scraping APIs: Some websites offer APIs (Application programming interfaces)\n",
    "# That allow programmatic access to their data in a structures format. This eliminates \n",
    "# the need for scraping and provides a more reliable way to collect data."
   ]
  },
  {
   "cell_type": "code",
   "execution_count": 4,
   "id": "d75e8b90-5440-49f2-ac63-25adaeca21eb",
   "metadata": {},
   "outputs": [],
   "source": [
    "# Q.3 \n",
    "# Beautiful soup is a popular web scraping library in python that excels at\n",
    "# parsing HTML and XML data.It makes it easy to find and extract specific\n",
    "# elements from a web page. \n",
    "\n",
    "# User-friendly: Beautiful soup offers a clean and intutive syntax, making it \n",
    "# easier to write scraping scripts compared to working directly with raw HTML code\n",
    "\n",
    "# Flexibility: It can handle various HTML structures and is adaptable to different website layouts\n",
    "\n",
    "# Focus on content: Beautiful soup helps you navigate through the HTML structure and \n",
    "# target the specific content you need , like product details or article text."
   ]
  },
  {
   "cell_type": "code",
   "execution_count": 1,
   "id": "22a05ec4-11ef-4506-a953-db96b482ab80",
   "metadata": {},
   "outputs": [],
   "source": [
    "# Q.4\n",
    "# Flask \n",
    "# Data presentation: Flask is a lightweight web framework in python that\n",
    "# could be used to create a web application to display or analyze the scraped\n",
    "# data. The scraped information might be stored in a database and accessed \n",
    "# through the flask application for further use."
   ]
  },
  {
   "cell_type": "code",
   "execution_count": null,
   "id": "31c7648e-377a-4e2e-a1e0-c13e477aa71a",
   "metadata": {},
   "outputs": [],
   "source": [
    "# Q.5\n",
    "# AWS service \n",
    "# Amazon s3: This service provides cloud storage for large data"
   ]
  }
 ],
 "metadata": {
  "kernelspec": {
   "display_name": "Python 3 (ipykernel)",
   "language": "python",
   "name": "python3"
  },
  "language_info": {
   "codemirror_mode": {
    "name": "ipython",
    "version": 3
   },
   "file_extension": ".py",
   "mimetype": "text/x-python",
   "name": "python",
   "nbconvert_exporter": "python",
   "pygments_lexer": "ipython3",
   "version": "3.10.8"
  }
 },
 "nbformat": 4,
 "nbformat_minor": 5
}
